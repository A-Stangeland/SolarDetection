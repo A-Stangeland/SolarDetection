{
 "cells": [
  {
   "cell_type": "code",
   "execution_count": 1,
   "metadata": {},
   "outputs": [
    {
     "data": {
      "text/plain": [
       "[PhysicalDevice(name='/physical_device:GPU:0', device_type='GPU')]"
      ]
     },
     "execution_count": 1,
     "metadata": {},
     "output_type": "execute_result"
    }
   ],
   "source": [
    "import numpy as np\n",
    "import matplotlib.pyplot as plt\n",
    "\n",
    "import tensorflow as tf\n",
    "from tensorflow import keras\n",
    "from tensorflow.keras.layers import Conv2D, MaxPool2D, UpSampling2D, Concatenate, Input\n",
    "from tensorflow.keras.models import Model\n",
    "\n",
    "tf.config.list_physical_devices('GPU')"
   ]
  },
  {
   "cell_type": "code",
   "execution_count": 2,
   "metadata": {},
   "outputs": [],
   "source": [
    "input_shape = (128, 128, 3)\n",
    "\n",
    "conv_args = dict(kernel_size=(3,3), padding=\"same\", activation=\"relu\")\n",
    "\n",
    "in_unet = Input(input_shape)\n",
    "x = Conv2D(32, **conv_args)(in_unet)\n",
    "x1 = Conv2D(32, **conv_args)(x)\n",
    "x = MaxPool2D()(x1)\n",
    "\n",
    "x = Conv2D(64, **conv_args)(x)\n",
    "x2 = Conv2D(64, **conv_args)(x)\n",
    "x = MaxPool2D()(x2)\n",
    "\n",
    "x = Conv2D(128, **conv_args)(x)\n",
    "x3 = Conv2D(128, **conv_args)(x)\n",
    "x = MaxPool2D()(x3)\n",
    "\n",
    "x = Conv2D(256, **conv_args)(x)\n",
    "x = Conv2D(256, **conv_args)(x)\n",
    "\n",
    "x = UpSampling2D()(x)\n",
    "x = Concatenate(axis=-1)([x, x3])\n",
    "x = Conv2D(128, **conv_args)(x)\n",
    "x = Conv2D(128, **conv_args)(x)\n",
    "\n",
    "x = UpSampling2D()(x)\n",
    "x = Concatenate(axis=-1)([x, x2])\n",
    "x = Conv2D(64, **conv_args)(x)\n",
    "x = Conv2D(64, **conv_args)(x)\n",
    "\n",
    "x = UpSampling2D()(x)\n",
    "x = Concatenate(axis=-1)([x, x1])\n",
    "x = Conv2D(32, **conv_args)(x)\n",
    "x = Conv2D(32, **conv_args)(x)\n",
    "\n",
    "out_unet = Conv2D(1, kernel_size=(3,3), padding=\"same\", activation=\"sigmoid\")(x)\n",
    "\n",
    "unet = Model(in_unet, out_unet)"
   ]
  },
  {
   "cell_type": "code",
   "execution_count": 3,
   "metadata": {},
   "outputs": [],
   "source": [
    "unet.compile(loss=\"binary_crossentropy\", metrics=[tf.keras.metrics.MeanIoU(num_classes=2)])"
   ]
  },
  {
   "cell_type": "code",
   "execution_count": 4,
   "metadata": {},
   "outputs": [
    {
     "name": "stdout",
     "output_type": "stream",
     "text": [
      "Found 14896 files.\n",
      "Found 4965 files.\n"
     ]
    }
   ],
   "source": [
    "import data_generation\n",
    "\n",
    "train_gen = data_generation.SegmentationDataGenerator(\"./test_dataset/train\")\n",
    "test_gen = data_generation.SegmentationDataGenerator(\"./test_dataset/test\")"
   ]
  },
  {
   "cell_type": "code",
   "execution_count": 5,
   "metadata": {},
   "outputs": [
    {
     "name": "stdout",
     "output_type": "stream",
     "text": [
      "Epoch 1/5\n",
      "465/465 [==============================] - 121s 243ms/step - loss: 0.3361\n",
      "Epoch 2/5\n",
      "465/465 [==============================] - 68s 147ms/step - loss: 0.1467\n",
      "Epoch 3/5\n",
      "465/465 [==============================] - 70s 151ms/step - loss: 0.1100\n",
      "Epoch 4/5\n",
      "465/465 [==============================] - 71s 152ms/step - loss: 0.0842\n",
      "Epoch 5/5\n",
      "465/465 [==============================] - 71s 153ms/step - loss: 0.0755\n"
     ]
    },
    {
     "data": {
      "text/plain": [
       "<keras.callbacks.History at 0x1678837bd60>"
      ]
     },
     "execution_count": 5,
     "metadata": {},
     "output_type": "execute_result"
    }
   ],
   "source": [
    "unet.fit(train_gen, validation_data=, epochs=5)"
   ]
  },
  {
   "cell_type": "code",
   "execution_count": 26,
   "metadata": {},
   "outputs": [
    {
     "ename": "SyntaxError",
     "evalue": "closing parenthesis ']' does not match opening parenthesis '(' (Temp/ipykernel_23924/3571122038.py, line 1)",
     "output_type": "error",
     "traceback": [
      "\u001b[1;36m  File \u001b[1;32m\"C:\\Users\\aleks\\AppData\\Local\\Temp/ipykernel_23924/3571122038.py\"\u001b[1;36m, line \u001b[1;32m1\u001b[0m\n\u001b[1;33m    unet.evaluate(test_gen])\u001b[0m\n\u001b[1;37m                          ^\u001b[0m\n\u001b[1;31mSyntaxError\u001b[0m\u001b[1;31m:\u001b[0m closing parenthesis ']' does not match opening parenthesis '('\n"
     ]
    }
   ],
   "source": []
  },
  {
   "cell_type": "code",
   "execution_count": 17,
   "metadata": {},
   "outputs": [],
   "source": [
    "X, y = test_gen.__getitem__(1)"
   ]
  },
  {
   "cell_type": "code",
   "execution_count": 18,
   "metadata": {},
   "outputs": [],
   "source": [
    "y_pred = unet.predict(X)"
   ]
  },
  {
   "cell_type": "code",
   "execution_count": 19,
   "metadata": {},
   "outputs": [
    {
     "data": {
      "text/plain": [
       "(32, 128, 128, 1)"
      ]
     },
     "execution_count": 19,
     "metadata": {},
     "output_type": "execute_result"
    }
   ],
   "source": [
    "y_pred.shape"
   ]
  },
  {
   "cell_type": "code",
   "execution_count": null,
   "metadata": {},
   "outputs": [],
   "source": [
    "w, h = 4, 4\n",
    "fig, ax = plt.subplots(h, w, figsize=(12,12))\n",
    "\n",
    "for i in range(h):\n",
    "    for j in range(w):\n",
    "        ax[i,j].imshow(X[w*i+j])\n",
    "        # ax[i,j].imshow(y[w*i+j,:,:,0], cmap=\"gray\")\n",
    "        ax[i,j].imshow(np.ma.masked_less(y_pred[w*i+j,:,:,0], .5), vmin=0, vmax=1, alpha=.5)\n",
    "        ax[i,j].axis('off')\n",
    "\n",
    "plt.tight_layout()\n",
    "plt.show()"
   ]
  },
  {
   "cell_type": "code",
   "execution_count": null,
   "metadata": {},
   "outputs": [],
   "source": [
    "unet = keras.models.load_model(\"trained_models/Unet/unet_v1.tf\")"
   ]
  },
  {
   "cell_type": "code",
   "execution_count": null,
   "metadata": {},
   "outputs": [],
   "source": [
    "image, mask = train_gen.next()\n",
    "mask_pred = unet.predict(image)"
   ]
  },
  {
   "cell_type": "code",
   "execution_count": null,
   "metadata": {},
   "outputs": [],
   "source": [
    "train_gen = ImageStream(\"test_dataset/test\")\n",
    "X_test, y_test = train_gen.load_dataset(2000)"
   ]
  },
  {
   "cell_type": "code",
   "execution_count": null,
   "metadata": {},
   "outputs": [],
   "source": [
    "unet.evaluate()"
   ]
  },
  {
   "cell_type": "code",
   "execution_count": null,
   "metadata": {},
   "outputs": [],
   "source": [
    "(mask_pred[w*i+j,:,:,0] > .5).sum()"
   ]
  },
  {
   "cell_type": "code",
   "execution_count": null,
   "metadata": {},
   "outputs": [],
   "source": [
    "w, h = 4, 4\n",
    "fig, ax = plt.subplots(h, w, figsize=(12,12))\n",
    "\n",
    "for i in range(h):\n",
    "    for j in range(w):\n",
    "        ax[i,j].imshow(image[w*i+j])\n",
    "        # ax[i,j].imshow(mask[w*i+j,:,:,0], cmap=\"gray\")\n",
    "        ax[i,j].imshow(np.ma.masked_less(mask_pred[w*i+j,:,:,0], .5), alpha=.5)\n",
    "        ax[i,j].axis('off')\n",
    "\n",
    "plt.tight_layout()\n",
    "plt.show()"
   ]
  },
  {
   "cell_type": "code",
   "execution_count": 22,
   "metadata": {},
   "outputs": [
    {
     "name": "stdout",
     "output_type": "stream",
     "text": [
      "INFO:tensorflow:Assets written to: trained_models\\Unet\\unet_v2.tf\\assets\n"
     ]
    }
   ],
   "source": [
    "unet.save(r\"trained_models\\Unet\\unet_v2.tf\")"
   ]
  }
 ],
 "metadata": {
  "interpreter": {
   "hash": "8fdb4faa7bb0879793b86fd6100323c1b63f0e6755fa877c915901b363e7641f"
  },
  "kernelspec": {
   "display_name": "Python 3.6.13 64-bit ('projet': conda)",
   "language": "python",
   "name": "python3"
  },
  "language_info": {
   "codemirror_mode": {
    "name": "ipython",
    "version": 3
   },
   "file_extension": ".py",
   "mimetype": "text/x-python",
   "name": "python",
   "nbconvert_exporter": "python",
   "pygments_lexer": "ipython3",
   "version": "3.9.7"
  },
  "orig_nbformat": 4
 },
 "nbformat": 4,
 "nbformat_minor": 2
}
